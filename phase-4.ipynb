{
 "cells": [
  {
   "cell_type": "code",
   "execution_count": 40,
   "id": "418bcb48",
   "metadata": {},
   "outputs": [],
   "source": [
    "import numpy as np\n",
    "import matplotlib.pyplot as plt \n"
   ]
  },
  {
   "cell_type": "code",
   "execution_count": 41,
   "id": "b3e1a85f",
   "metadata": {},
   "outputs": [],
   "source": [
    "array1=np.array([1,2,3,4,5])\n",
    "array2=np.random.rand(3,3)\n",
    "array3=np.zeros((4,4))\n"
   ]
  },
  {
   "cell_type": "code",
   "execution_count": 42,
   "id": "33175ba1",
   "metadata": {},
   "outputs": [],
   "source": [
    "np.save('array1.npy',array1)\n",
    "np.save('array2.npy',array2)\n",
    "np.save('array3.npy',array3)"
   ]
  },
  {
   "cell_type": "code",
   "execution_count": 43,
   "id": "a6e3e097",
   "metadata": {},
   "outputs": [
    {
     "name": "stdout",
     "output_type": "stream",
     "text": [
      "Loaded Array 1: [1 2 3 4 5]\n"
     ]
    }
   ],
   "source": [
    "loaded_array1=np.load('array1.npy')\n",
    "print(\"Loaded Array 1:\",loaded_array1)"
   ]
  },
  {
   "cell_type": "code",
   "execution_count": 44,
   "id": "f307c21f",
   "metadata": {},
   "outputs": [
    {
     "data": {
      "image/png": "[encoded data removed]",
      "text/plain": [
       "<Figure size 1000x500 with 1 Axes>"
      ]
     },
     "metadata": {},
     "output_type": "display_data"
    }
   ],
   "source": [
    "try:\n",
    "    logo=np.load('numpy-logo.npy')\n",
    "    #display the logo\n",
    "    plt.figure(figsize=(10,5))\n",
    "    plt.subplot(121)\n",
    "    plt.imshow(logo)\n",
    "    \n",
    "    plt.title('Numpy Logo')\n",
    "    plt.grid('off')\n",
    "except FileNotFoundError:\n",
    "    print(\"numpy logo not found\")"
   ]
  },
  {
   "cell_type": "code",
   "execution_count": 45,
   "id": "22853777",
   "metadata": {},
   "outputs": [
    {
     "name": "stdout",
     "output_type": "stream",
     "text": [
      "Working directory: c:\\Users\\harsh\\OneDrive\\Desktop\n",
      "Working dir writable (os.access): True\n",
      "\n",
      "Target file: array1.npy\n",
      "Exists: True\n",
      "Is file: True\n",
      "stat: os.stat_result(st_mode=33206, st_ino=16044073672817722, st_dev=10551063867166330611, st_nlink=1, st_uid=0, st_gid=0, st_size=168, st_atime=1761876299, st_mtime=1761876298, st_ctime=1761822303)\n",
      "mode (oct): 0o100666\n",
      "os.access writable: True\n",
      "\n",
      "Wrote temporary test file: diag_write_test.tmp\n",
      "np.save to array1_test_write.npy succeeded\n",
      "\n",
      "Tried os.chmod to add write permission\n",
      "os.access writable after chmod: True\n",
      "\n",
      "Diagnostic cell finished\n"
     ]
    }
   ],
   "source": [
    "# Diagnostic cell: inspect working dir and permissions for 'array1.npy'\n",
    "import os, stat, pathlib, tempfile\n",
    "import numpy as np\n",
    "\n",
    "print('Working directory:', os.getcwd())\n",
    "print('Working dir writable (os.access):', os.access(os.getcwd(), os.W_OK))\n",
    "\n",
    "p = 'array1.npy'\n",
    "print('\\nTarget file:', p)\n",
    "print('Exists:', os.path.exists(p))\n",
    "if os.path.exists(p):\n",
    "    st = pathlib.Path(p)\n",
    "    print('Is file:', st.is_file())\n",
    "    s = st.stat()\n",
    "    print('stat:', s)\n",
    "    print('mode (oct):', oct(s.st_mode))\n",
    "    try:\n",
    "        print('os.access writable:', os.access(p, os.W_OK))\n",
    "    except Exception as e:\n",
    "        print('os.access check failed:', e)\n",
    "\n",
    "# Try a small open test\n",
    "tmp = 'diag_write_test.tmp'\n",
    "try:\n",
    "    with open(tmp, 'wb') as f:\n",
    "        f.write(b'ping')\n",
    "    print('\\nWrote temporary test file:', tmp)\n",
    "    os.remove(tmp)\n",
    "except Exception as e:\n",
    "    print('\\nFailed to write temp file:', repr(e))\n",
    "\n",
    "# Try numpy save test to a different name\n",
    "try:\n",
    "    np.save('array1_test_write.npy', np.array([1,2,3]))\n",
    "    print('np.save to array1_test_write.npy succeeded')\n",
    "    os.remove('array1_test_write.npy')\n",
    "except Exception as e:\n",
    "    print('np.save test failed:', repr(e))\n",
    "\n",
    "# If target exists and appears read-only, try to add write bit (best-effort)\n",
    "if os.path.exists(p):\n",
    "    try:\n",
    "        current_mode = os.stat(p).st_mode\n",
    "        os.chmod(p, current_mode | stat.S_IWRITE)\n",
    "        print('\\nTried os.chmod to add write permission')\n",
    "        print('os.access writable after chmod:', os.access(p, os.W_OK))\n",
    "    except Exception as e:\n",
    "        print('\\nchmod attempt failed:', repr(e))\n",
    "\n",
    "print('\\nDiagnostic cell finished')\n"
   ]
  }
 ],
 "metadata": {
  "kernelspec": {
   "display_name": "Python 3",
   "language": "python",
   "name": "python3"
  },
  "language_info": {
   "codemirror_mode": {
    "name": "ipython",
    "version": 3
   },
   "file_extension": ".py",
   "mimetype": "text/x-python",
   "name": "python",
   "nbconvert_exporter": "python",
   "pygments_lexer": "ipython3",
   "version": "3.13.7"
  }
 },
 "nbformat": 4,
 "nbformat_minor": 5
}
