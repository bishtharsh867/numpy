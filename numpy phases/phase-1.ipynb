{
 "cells": [
  {
   "cell_type": "code",
   "execution_count": 13,
   "id": "377401f1",
   "metadata": {},
   "outputs": [
    {
     "name": "stdout",
     "output_type": "stream",
     "text": [
      "numpy 2.1.2\n"
     ]
    }
   ],
   "source": [
    "import numpy as np\n",
    "print('numpy', np.__version__)\n"
   ]
  },
  {
   "cell_type": "markdown",
   "id": "4088265b",
   "metadata": {},
   "source": [
    "## LEARING NUMPY"
   ]
  },
  {
   "cell_type": "code",
   "execution_count": 14,
   "id": "edbded2b",
   "metadata": {},
   "outputs": [],
   "source": [
    "import numpy as np"
   ]
  },
  {
   "cell_type": "markdown",
   "id": "fbeee24e",
   "metadata": {},
   "source": [
    "## CREATING PYTHON FROM LIST"
   ]
  },
  {
   "cell_type": "code",
   "execution_count": 15,
   "id": "90601872",
   "metadata": {},
   "outputs": [
    {
     "name": "stdout",
     "output_type": "stream",
     "text": [
      "1D Array: [1 2 3 4 5]\n",
      "2D Array:\n",
      " [[1 2 3]\n",
      " [4 5 6]]\n"
     ]
    }
   ],
   "source": [
    "arr_1d = np.array([1, 2, 3, 4, 5])\n",
    "print(\"1D Array:\", arr_1d)\n",
    "arr_2d = np.array([[1, 2, 3], [4, 5, 6]])\n",
    "print(\"2D Array:\\n\", arr_2d)"
   ]
  },
  {
   "cell_type": "code",
   "execution_count": 16,
   "id": "665a0849",
   "metadata": {},
   "outputs": [
    {
     "name": "stdout",
     "output_type": "stream",
     "text": [
      "Python List: [7, 8, 9, 10, 7, 8, 9, 10]\n"
     ]
    }
   ],
   "source": [
    "py_list = [7, 8, 9, 10]\n",
    "print(\"Python List:\", py_list*2)"
   ]
  },
  {
   "cell_type": "code",
   "execution_count": 17,
   "id": "2e2e1da1",
   "metadata": {},
   "outputs": [
    {
     "name": "stdout",
     "output_type": "stream",
     "text": [
      "Python Array: [1, 2, 3, 4, 5, 1, 2, 3, 4, 5]\n"
     ]
    }
   ],
   "source": [
    "py_array = [1,2,3,4,5]\n",
    "print(\"Python Array:\", py_array*2)"
   ]
  },
  {
   "cell_type": "code",
   "execution_count": 18,
   "id": "4b0b74c4",
   "metadata": {},
   "outputs": [
    {
     "name": "stdout",
     "output_type": "stream",
     "text": [
      "Python Array: [ 2  4  6  8 10]\n"
     ]
    }
   ],
   "source": [
    "np_array =np.array([1,2,3,4,5])\n",
    "print(\"Python Array:\", np_array*2)"
   ]
  },
  {
   "cell_type": "code",
   "execution_count": 19,
   "id": "3e713c4d",
   "metadata": {},
   "outputs": [
    {
     "name": "stdout",
     "output_type": "stream",
     "text": [
      "Time taken by Python list: 0.08000826835632324\n",
      "Time taken by Numpy array: 0.0050160884857177734\n"
     ]
    }
   ],
   "source": [
    "import time\n",
    "start=time.time() ##for exact tine calculation\n",
    "py_list=[i*2 for i in range(1000000)]\n",
    "print(\"Time taken by Python list:\", time.time()-start)\n",
    "start=time.time()\n",
    "np_array=np.arange(1000000)*2\n",
    "print(\"Time taken by Numpy array:\", time.time()-start)"
   ]
  },
  {
   "cell_type": "markdown",
   "id": "989380f9",
   "metadata": {},
   "source": [
    "## CREATING PYTHON FROM SCRATCH"
   ]
  },
  {
   "cell_type": "code",
   "execution_count": 20,
   "id": "85850999",
   "metadata": {},
   "outputs": [
    {
     "name": "stdout",
     "output_type": "stream",
     "text": [
      "Array of Zeros:\n",
      " [[1. 1. 1. 1.]\n",
      " [1. 1. 1. 1.]\n",
      " [1. 1. 1. 1.]]\n",
      "Array of Full:\n",
      " [[7 7]\n",
      " [7 7]]\n",
      "Array of Randoms:\n",
      " [[0.06693233 0.42474376 0.5203913 ]\n",
      " [0.31736102 0.87071263 0.13543349]]\n"
     ]
    }
   ],
   "source": [
    "zeros=np.ones((3,4))  ##creating array of ones/zeros/three\n",
    "print(\"Array of Zeros:\\n\", zeros)\n",
    "\n",
    "full=np.full((2,2),7) \n",
    "print(\"Array of Full:\\n\", full)\n",
    "\n",
    "random = np.random.random((2,3))\n",
    "print(\"Array of Randoms:\\n\", random)"
   ]
  },
  {
   "cell_type": "code",
   "execution_count": 21,
   "id": "9ed0c0ca",
   "metadata": {},
   "outputs": [
    {
     "name": "stdout",
     "output_type": "stream",
     "text": [
      "[0 2 4 6 8]\n"
     ]
    }
   ],
   "source": [
    "sequence= np.arange(0,10,2) ## exclusive output\n",
    "print(sequence)"
   ]
  },
  {
   "cell_type": "markdown",
   "id": "1bc24b84",
   "metadata": {
    "notebookRunGroups": {
     "groupValue": "1"
    }
   },
   "source": [
    "## VECTOR , MATRIX AND TENSOR"
   ]
  },
  {
   "cell_type": "code",
   "execution_count": 26,
   "id": "bfa2be26",
   "metadata": {},
   "outputs": [
    {
     "name": "stdout",
     "output_type": "stream",
     "text": [
      "[1 2 3 4]\n",
      "[[1 2 3 4]\n",
      " [4 5 6 7]]\n",
      "tensor:  [[[1 2]\n",
      "  [3 4]]\n",
      "\n",
      " [[5 6]\n",
      "  [7 8]]]\n"
     ]
    }
   ],
   "source": [
    "vector=np.array([1,2,3,4])\n",
    "print(vector)\n",
    "\n",
    "matrix= np.array([[1,2,3,4],[4,5,6,7]])\n",
    "print(matrix)\n",
    "\n",
    "tensor=np.array([[[1,2],[3,4]],[\n",
    "                  [5,6],[7,8]]])\n",
    "print(\"tensor: \",tensor)"
   ]
  },
  {
   "cell_type": "markdown",
   "id": "545abf6c",
   "metadata": {},
   "source": [
    "## PROPERTIES OF ARRAY"
   ]
  },
  {
   "cell_type": "code",
   "execution_count": 30,
   "id": "ecb4e835",
   "metadata": {},
   "outputs": [
    {
     "name": "stdout",
     "output_type": "stream",
     "text": [
      "array: [[1 2]\n",
      " [3 4]]\n",
      "shape:  (2, 2)\n",
      "dimension:  2\n",
      "size:  4\n",
      "datatype:  int64\n"
     ]
    }
   ],
   "source": [
    "arr=np.array([[1,2],[3,4]])\n",
    "print(\"array:\",arr)\n",
    "\n",
    "print(\"shape: \",arr.shape)\n",
    "print(\"dimension: \",arr.ndim)\n",
    "print(\"size: \",arr.size)\n",
    "print(\"datatype: \",arr.dtype)"
   ]
  },
  {
   "cell_type": "markdown",
   "id": "a165d48b",
   "metadata": {},
   "source": [
    "## ARRAY RESHAPING , RESIZING , FLATTENED AND TRANSPOSE"
   ]
  },
  {
   "cell_type": "code",
   "execution_count": 36,
   "id": "da5df323",
   "metadata": {},
   "outputs": [
    {
     "name": "stdout",
     "output_type": "stream",
     "text": [
      "original array:  [ 0  1  2  3  4  5  6  7  8  9 10 11]\n",
      "reshaped:  [[ 0  1  2  3]\n",
      " [ 4  5  6  7]\n",
      " [ 8  9 10 11]]\n",
      "flattend:  [ 0  1  2  3  4  5  6  7  8  9 10 11]\n",
      "ravel:  [ 0  1  2  3  4  5  6  7  8  9 10 11]\n",
      "transposed:  [[ 0  4  8]\n",
      " [ 1  5  9]\n",
      " [ 2  6 10]\n",
      " [ 3  7 11]]\n"
     ]
    }
   ],
   "source": [
    "arr=np.arange(12)\n",
    "print(\"original array: \",arr)\n",
    "\n",
    "reshaped=arr.reshape((3,4))\n",
    "print(\"reshaped: \",reshaped)\n",
    "\n",
    "flattened= reshaped.flatten()\n",
    "print(\"flattend: \",flattened)\n",
    "\n",
    "#ravel returns view,instead of copy\n",
    "raveled=reshaped.ravel()\n",
    "print(\"ravel: \",raveled)\n",
    "\n",
    "transpose=reshaped.T\n",
    "print(\"transposed: \",transpose)\n",
    "\n"
   ]
  }
 ],
 "metadata": {
  "kernelspec": {
   "display_name": "Python 3",
   "language": "python",
   "name": "python3"
  },
  "language_info": {
   "codemirror_mode": {
    "name": "ipython",
    "version": 3
   },
   "file_extension": ".py",
   "mimetype": "text/x-python",
   "name": "python",
   "nbconvert_exporter": "python",
   "pygments_lexer": "ipython3",
   "version": "3.13.7"
  }
 },
 "nbformat": 4,
 "nbformat_minor": 5
}
