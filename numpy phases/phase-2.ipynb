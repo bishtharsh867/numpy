{
 "cells": [
  {
   "cell_type": "markdown",
   "id": "0f7f7d6e",
   "metadata": {},
   "source": [
    "## NUMPY ARRAY OPERATIONS"
   ]
  },
  {
   "cell_type": "code",
   "execution_count": 26,
   "id": "c5c02154",
   "metadata": {},
   "outputs": [],
   "source": [
    "import numpy as np"
   ]
  },
  {
   "cell_type": "code",
   "execution_count": 27,
   "id": "71e1eabc",
   "metadata": {},
   "outputs": [
    {
     "name": "stdout",
     "output_type": "stream",
     "text": [
      "basic slicing:  [1 2 3]\n",
      "with step:  [1 3 5]\n",
      "negative slicing:  1\n"
     ]
    }
   ],
   "source": [
    "arr=np.array([1,2,3,4,5])\n",
    "print(\"basic slicing: \",arr[0:3])\n",
    "print(\"with step: \",arr[0:5:2])\n",
    "print(\"negative slicing: \",arr[-5])"
   ]
  },
  {
   "cell_type": "code",
   "execution_count": 28,
   "id": "9496a588",
   "metadata": {},
   "outputs": [
    {
     "name": "stdout",
     "output_type": "stream",
     "text": [
      "specific element: 6\n",
      "specific row: [1 2 3]\n",
      "specific column: [2 5 8]\n"
     ]
    }
   ],
   "source": [
    "arr_2d= np.array([[1,2,3], #oth row\n",
    "                  [4,5,6],#1st row\n",
    "                  [7,8,9]]) #2nd row\n",
    "print(\"specific element:\", arr_2d[1,2])\n",
    "#this is done only in numpy not in normal python\n",
    "print(\"specific row:\", arr_2d[0]) #0th row all columns\n",
    "print(\"specific column:\", arr_2d[:,1]) #all rows 2nd column"
   ]
  },
  {
   "cell_type": "markdown",
   "id": "2691c914",
   "metadata": {},
   "source": [
    "## SORTING"
   ]
  },
  {
   "cell_type": "code",
   "execution_count": 29,
   "id": "2896c6da",
   "metadata": {},
   "outputs": [
    {
     "name": "stdout",
     "output_type": "stream",
     "text": [
      "Unsorted array: [3 7 1 9 4]\n",
      "Sorted array: [1 3 4 7 9]\n",
      "sorted 2d array by column:\n",
      " [[1 1]\n",
      " [2 2]\n",
      " [3 3]]\n"
     ]
    }
   ],
   "source": [
    "unsorted = np.array([3,7,1,9,4])\n",
    "sorted_arr = np.sort(unsorted)\n",
    "print(\"Unsorted array:\", unsorted)\n",
    "print(\"Sorted array:\", sorted_arr) # sorting\n",
    "\n",
    "arr_2d= np.array([[3,1],[1,2],[2,3]])\n",
    "print(\"sorted 2d array by column:\\n\", np.sort(arr_2d, axis=0)) #sort along columns"
   ]
  },
  {
   "cell_type": "markdown",
   "id": "2aaaeb1e",
   "metadata": {},
   "source": [
    "## FILTERING"
   ]
  },
  {
   "cell_type": "code",
   "execution_count": 30,
   "id": "e04bbbe6",
   "metadata": {},
   "outputs": [
    {
     "name": "stdout",
     "output_type": "stream",
     "text": [
      "Even numbers: [ 2  4  6  8 10]\n"
     ]
    }
   ],
   "source": [
    "numbers = np.array([1,2,3,4,5,6,7,8,9,10])\n",
    "even_number = numbers[numbers%2==0]\n",
    "print(\"Even numbers:\", even_number)"
   ]
  },
  {
   "cell_type": "markdown",
   "id": "c6d78391",
   "metadata": {},
   "source": [
    "# Filter with mask"
   ]
  },
  {
   "cell_type": "code",
   "execution_count": 31,
   "id": "0b900b9c",
   "metadata": {},
   "outputs": [
    {
     "name": "stdout",
     "output_type": "stream",
     "text": [
      "numbers greater than 5:  [ 6  7  8  9 10]\n"
     ]
    }
   ],
   "source": [
    "mask=numbers>5\n",
    "print(\"numbers greater than 5: \",numbers[mask])"
   ]
  },
  {
   "cell_type": "markdown",
   "id": "99fac848",
   "metadata": {},
   "source": [
    "## FANCY INDEXING VS np.where()"
   ]
  },
  {
   "cell_type": "code",
   "execution_count": 32,
   "id": "f92a7375",
   "metadata": {},
   "outputs": [
    {
     "name": "stdout",
     "output_type": "stream",
     "text": [
      "Fancy indexing result: [1 3 5]\n",
      "Indices from np.where(): (array([5, 6, 7, 8, 9]),)\n",
      "NP where [ 6  7  8  9 10]\n"
     ]
    }
   ],
   "source": [
    "indices = [0,2,4]\n",
    "print(\"Fancy indexing result:\", numbers[indices])\n",
    "\n",
    "where_result = np.where(numbers > 5)\n",
    "print(\"Indices from np.where():\", where_result)\n",
    "print(\"NP where\",numbers[where_result])"
   ]
  },
  {
   "cell_type": "code",
   "execution_count": 33,
   "id": "2bc3cfbf",
   "metadata": {},
   "outputs": [
    {
     "name": "stdout",
     "output_type": "stream",
     "text": [
      "[ 1  2  3  4  5 12 14 16 18 20]\n"
     ]
    }
   ],
   "source": [
    "conditin_array=np.where(numbers>5,numbers*2,numbers)\n",
    "print(conditin_array)"
   ]
  },
  {
   "cell_type": "code",
   "execution_count": 34,
   "id": "ff8c1a1b",
   "metadata": {},
   "outputs": [
    {
     "name": "stdout",
     "output_type": "stream",
     "text": [
      "['False' 'False' 'False' 'False' 'False' 'True' 'True' 'True' 'True'\n",
      " 'True']\n"
     ]
    }
   ],
   "source": [
    "conditin_array=np.where(numbers>5,\"True\",\"False\")\n",
    "print(conditin_array)"
   ]
  },
  {
   "cell_type": "markdown",
   "id": "b69ef952",
   "metadata": {},
   "source": [
    "### ADDING AND REMOVING DATA"
   ]
  },
  {
   "cell_type": "code",
   "execution_count": 35,
   "id": "231a101e",
   "metadata": {},
   "outputs": [
    {
     "name": "stdout",
     "output_type": "stream",
     "text": [
      "Combined array: [1 2 3 4 5 6]\n"
     ]
    }
   ],
   "source": [
    "arr1=np.array([1,2,3])\n",
    "arr2=np.array([4,5,6])\n",
    "combined=np.concatenate((arr1,arr2)) #always use concatenate function to combine arrays\n",
    "print(\"Combined array:\", combined)"
   ]
  },
  {
   "cell_type": "markdown",
   "id": "904f4ad1",
   "metadata": {},
   "source": [
    "# ARRAY COMPATIBILITY"
   ]
  },
  {
   "cell_type": "code",
   "execution_count": 36,
   "id": "4ef0a576",
   "metadata": {},
   "outputs": [
    {
     "name": "stdout",
     "output_type": "stream",
     "text": [
      "compatibility shapes True\n"
     ]
    }
   ],
   "source": [
    "a=np.array([1,2,3])\n",
    "b=np.array([4,5,6])\n",
    "C=np.array([7,8,9])\n",
    "print(\"compatibility shapes\",a.shape==b.shape)"
   ]
  },
  {
   "cell_type": "code",
   "execution_count": null,
   "id": "d8fe4256",
   "metadata": {},
   "outputs": [
    {
     "name": "stdout",
     "output_type": "stream",
     "text": [
      "[[1 2]\n",
      " [3 4]]\n",
      "With new row: [[1 2]\n",
      " [3 4]\n",
      " [5 6]]\n",
      "With new column: [[1 2 7]\n",
      " [3 4 8]\n",
      " [5 6 9]]\n"
     ]
    }
   ],
   "source": [
    "original=np.array([[1,2],[3,4]])\n",
    "new_row=np.array([[5,6]])\n",
    "\n",
    "with_new_row=np.vstack((original,new_row))#stack array in sequence vertically(vstack is used)\n",
    "print(original)\n",
    "print(\"With new row:\",with_new_row)\n",
    "\n",
    "new_col= np.array([[7],[8],[9]])\n",
    "with_new_col=np.hstack((with_new_row,new_col)) #stack array in sequence horizontally(hstack is used)\n",
    "print(\"With new column:\",with_new_col)"
   ]
  },
  {
   "cell_type": "markdown",
   "id": "15c488c4",
   "metadata": {},
   "source": [
    "# delete array"
   ]
  },
  {
   "cell_type": "code",
   "execution_count": 43,
   "id": "19f9417d",
   "metadata": {},
   "outputs": [
    {
     "name": "stdout",
     "output_type": "stream",
     "text": [
      "Original array: [1 2 4 5]\n"
     ]
    }
   ],
   "source": [
    "arr=np.array([1,2,3,4,5])\n",
    "deleted_array=np.delete(arr,2) #deleting element at index 2\n",
    "print(\"Original array:\",deleted_array)"
   ]
  }
 ],
 "metadata": {
  "kernelspec": {
   "display_name": "Python 3",
   "language": "python",
   "name": "python3"
  },
  "language_info": {
   "codemirror_mode": {
    "name": "ipython",
    "version": 3
   },
   "file_extension": ".py",
   "mimetype": "text/x-python",
   "name": "python",
   "nbconvert_exporter": "python",
   "pygments_lexer": "ipython3",
   "version": "3.13.7"
  }
 },
 "nbformat": 4,
 "nbformat_minor": 5
}
